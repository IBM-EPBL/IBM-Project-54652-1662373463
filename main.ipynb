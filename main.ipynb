{
  "nbformat": 4,
  "nbformat_minor": 0,
  "metadata": {
    "colab": {
      "provenance": [],
      "authorship_tag": "ABX9TyN/rHIM1CFG2xN+Af1mWwgL",
      "include_colab_link": true
    },
    "kernelspec": {
      "name": "python3",
      "display_name": "Python 3"
    },
    "language_info": {
      "name": "python"
    }
  },
  "cells": [
    {
      "cell_type": "markdown",
      "metadata": {
        "id": "view-in-github",
        "colab_type": "text"
      },
      "source": [
        "<a href=\"https://colab.research.google.com/github/IBM-EPBL/IBM-Project-54652-1662373463/blob/main/main.ipynb\" target=\"_parent\"><img src=\"https://colab.research.google.com/assets/colab-badge.svg\" alt=\"Open In Colab\"/></a>"
      ]
    },
    {
      "cell_type": "code",
      "execution_count": 1,
      "metadata": {
        "id": "W_OPDgFiMq3Q"
      },
      "outputs": [],
      "source": [
        "from sklearn.neighbors import KNeighborsClassifier\n",
        "from sklearn.model_selection import train_test_split\n",
        "import pandas as pd\n",
        "import numpy as np\n",
        "import pickle\n",
        "\n",
        "\n",
        "\n",
        "\n"
      ]
    },
    {
      "cell_type": "code",
      "source": [
        "dt = pd.read_csv(\"/airports.csv\")\n",
        "dt = dt.dropna()"
      ],
      "metadata": {
        "id": "PF4Y-vdGNYiW"
      },
      "execution_count": 3,
      "outputs": []
    },
    {
      "cell_type": "code",
      "source": [
        "dt=dt.replace('NaN',0)\n",
        "dt=dt.replace('OC',1)\n",
        "dt=dt.replace('AF',2)\n",
        "dt=dt.replace('AN',3)\n",
        "dt=dt.replace('EU',4)\n",
        "dt=dt.replace('AS',5)\n",
        "dt=dt.replace('SA',6)\n"
      ],
      "metadata": {
        "id": "ysxF8HQxNrjI"
      },
      "execution_count": 4,
      "outputs": []
    },
    {
      "cell_type": "code",
      "source": [
        "train=dt['elevation_ft']\n",
        "target=dt['elevation_ft']\n",
        "train=np.array(train)\n",
        "target=np.array(target)\n",
        "\n",
        "X_train, X_test, y_train, y_test = train_test_split(train,target, test_size = 0.2, random_state=42)\n",
        "\n",
        "knn = KNeighborsClassifier(n_neighbors=5)\n",
        "\n",
        "knn.fit(X_train.reshape(-1,1), y_train)\n",
        "\n",
        "file = open(\"model.pkl\",\"wb\")\n",
        "\n",
        "pickle.dump(knn,file)\n",
        "\n",
        "file.close()\n",
        "\n"
      ],
      "metadata": {
        "id": "HrGOXC8ZNrpW"
      },
      "execution_count": 5,
      "outputs": []
    }
  ]
}